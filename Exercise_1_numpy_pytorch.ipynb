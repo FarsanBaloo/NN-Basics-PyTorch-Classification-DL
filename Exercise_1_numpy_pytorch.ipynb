{
  "cells": [
    {
      "cell_type": "markdown",
      "metadata": {
        "id": "922eN3_Ey3ub"
      },
      "source": [
        "# Numpy and Pytorch"
      ]
    },
    {
      "cell_type": "markdown",
      "metadata": {
        "id": "gl6rJ1oDy3ud"
      },
      "source": [
        "Welcome to your first assignment. This exercise gives you a brief introduction to numpy and pytorch\n",
        "\n",
        "**Instructions:**\n",
        "- You will be using Python 3.\n",
        "- After coding your function, run the cell right below it to check if your result is correct.\n",
        "\n",
        "Let's get started!"
      ]
    },
    {
      "cell_type": "markdown",
      "metadata": {
        "id": "tt3sqBdMy3ue"
      },
      "source": [
        "**Exercise**: Set test to the `\"Hello World\"` and print it in the cell below."
      ]
    },
    {
      "cell_type": "code",
      "execution_count": 10,
      "metadata": {
        "id": "ALNJ1HdLy3um"
      },
      "outputs": [
        {
          "name": "stdout",
          "output_type": "stream",
          "text": [
            "sigmoid_derivative(x) = [0.19661193 0.10499359 0.04517666]\n",
            "sigmoid_derivative(x) = tensor([0.1966, 0.1050, 0.0452], dtype=torch.float64)\n"
          ]
        }
      ],
      "source": [
        "x = np.array([1, 2, 3])\n",
        "print (\"sigmoid_derivative(x) = \" + str(sigmoid_derivative_numpy(x)))\n",
        "print (\"sigmoid_derivative(x) = \" + str(sigmoid_derivative_torch(x)))"
      ]
    },
    {
      "cell_type": "markdown",
      "metadata": {
        "id": "Wba0bDfcy3un"
      },
      "source": [
        "**Expected Output**:\n",
        "\n",
        "\n",
        "<table>\n",
        "    <tr>\n",
        "        <td> **sigmoid_derivative([1,2,3])**</td>\n",
        "        <td> [ 0.19661193  0.10499359  0.04517666] </td>\n",
        "    </tr>\n",
        "</table>\n",
        "\n"
      ]
    },
    {
      "cell_type": "code",
      "execution_count": 11,
      "metadata": {
        "id": "CYJwvrmHy3uo"
      },
      "outputs": [],
      "source": [
        "# GRADED FUNCTION: image2vector\n",
        "def image2vector_numpy(image):\n",
        "    \"\"\"\n",
        "    Argument:\n",
        "    image -- a numpy array of shape (length, height, depth)\n",
        "\n",
        "    Returns:\n",
        "    v -- a vector of shape (length*height*depth, 1)\n",
        "    \"\"\"\n",
        "\n",
        "    ### START CODE HERE ### (≈ 1 line of code)\n",
        "    v = image.reshape(image.shape[0]*image.shape[1]*image.shape[2],1)\n",
        "    ### END CODE HERE ###\n",
        "\n",
        "    return v\n"
      ]
    },
    {
      "cell_type": "markdown",
      "metadata": {
        "id": "mhLF436q4ItA"
      },
      "source": [
        "**use torch.view() function to reshape the input image**"
      ]
    },
    {
      "cell_type": "code",
      "execution_count": 13,
      "metadata": {
        "id": "Vr-vLVCEy3uq"
      },
      "outputs": [
        {
          "name": "stdout",
          "output_type": "stream",
          "text": [
            "image2vector(image) = [[0.67826139]\n",
            " [0.29380381]\n",
            " [0.90714982]\n",
            " [0.52835647]\n",
            " [0.4215251 ]\n",
            " [0.45017551]\n",
            " [0.92814219]\n",
            " [0.96677647]\n",
            " [0.85304703]\n",
            " [0.52351845]\n",
            " [0.19981397]\n",
            " [0.27417313]\n",
            " [0.60659855]\n",
            " [0.00533165]\n",
            " [0.10820313]\n",
            " [0.49978937]\n",
            " [0.34144279]\n",
            " [0.94630077]]\n",
            "image2vector(image) = tensor([[0.6783],\n",
            "        [0.2938],\n",
            "        [0.9071],\n",
            "        [0.5284],\n",
            "        [0.4215],\n",
            "        [0.4502],\n",
            "        [0.9281],\n",
            "        [0.9668],\n",
            "        [0.8530],\n",
            "        [0.5235],\n",
            "        [0.1998],\n",
            "        [0.2742],\n",
            "        [0.6066],\n",
            "        [0.0053],\n",
            "        [0.1082],\n",
            "        [0.4998],\n",
            "        [0.3414],\n",
            "        [0.9463]], dtype=torch.float64)\n"
          ]
        }
      ],
      "source": [
        "# This is a 3 by 3 by 2 array, typically images will be (num_px_x, num_px_y,3) where 3 represents the RGB values\n",
        "image = np.array([[[ 0.67826139,  0.29380381],\n",
        "        [ 0.90714982,  0.52835647],\n",
        "        [ 0.4215251 ,  0.45017551]],\n",
        "\n",
        "       [[ 0.92814219,  0.96677647],\n",
        "        [ 0.85304703,  0.52351845],\n",
        "        [ 0.19981397,  0.27417313]],\n",
        "\n",
        "       [[ 0.60659855,  0.00533165],\n",
        "        [ 0.10820313,  0.49978937],\n",
        "        [ 0.34144279,  0.94630077]]])\n",
        "\n",
        "print (\"image2vector(image) = \" + str(image2vector_numpy(image)))\n",
        "print (\"image2vector(image) = \" + str(image2vector_torch(image)))"
      ]
    },
    {
      "cell_type": "markdown",
      "metadata": {
        "id": "omXFkr9Xy3ur"
      },
      "source": [
        "**Expected Output**:\n",
        "\n",
        "\n",
        "<table style=\"width:100%\">\n",
        "     <tr>\n",
        "       <td> **image2vector(image)** </td>\n",
        "       <td> [[ 0.67826139]\n",
        " [ 0.29380381]\n",
        " [ 0.90714982]\n",
        " [ 0.52835647]\n",
        " [ 0.4215251 ]\n",
        " [ 0.45017551]\n",
        " [ 0.92814219]\n",
        " [ 0.96677647]\n",
        " [ 0.85304703]\n",
        " [ 0.52351845]\n",
        " [ 0.19981397]\n",
        " [ 0.27417313]\n",
        " [ 0.60659855]\n",
        " [ 0.00533165]\n",
        " [ 0.10820313]\n",
        " [ 0.49978937]\n",
        " [ 0.34144279]\n",
        " [ 0.94630077]]</td>\n",
        "     </tr>\n",
        "    \n",
        "   \n",
        "</table>"
      ]
    },
    {
      "cell_type": "markdown",
      "metadata": {
        "id": "e6EjbZuly3ur"
      },
      "source": [
        "**Exercise**: Implement a softmax function using numpy.\n",
        "\n",
        "**Instructions**:\n",
        "- $ \\text{for } x \\in \\mathbb{R}^{1\\times n} \\text{,     } softmax(x) = softmax(\\begin{bmatrix}\n",
        "    x_1  &&\n",
        "    x_2 &&\n",
        "    ...  &&\n",
        "    x_n  \n",
        "\\end{bmatrix}) = \\begin{bmatrix}\n",
        "     \\frac{e^{x_1}}{\\sum_{j}e^{x_j}}  &&\n",
        "    \\frac{e^{x_2}}{\\sum_{j}e^{x_j}}  &&\n",
        "    ...  &&\n",
        "    \\frac{e^{x_n}}{\\sum_{j}e^{x_j}}\n",
        "\\end{bmatrix} $\n",
        "\n",
        "for a matrix  $x \\in \\mathbb{R}^{m \\times n}$ ,  $x_{ij}$ maps to the element in the $i^{th}$ row and $j^{th}$ column of $x$, thus we have:  $$softmax(x) = softmax\\begin{bmatrix}\n",
        "    x_{11} & x_{12} & x_{13} & \\dots  & x_{1n} \\\\\n",
        "    x_{21} & x_{22} & x_{23} & \\dots  & x_{2n} \\\\\n",
        "    \\vdots & \\vdots & \\vdots & \\ddots & \\vdots \\\\\n",
        "    x_{m1} & x_{m2} & x_{m3} & \\dots  & x_{mn}\n",
        "\\end{bmatrix} = \\begin{bmatrix}\n",
        "    \\frac{e^{x_{11}}}{\\sum_{j}e^{x_{1j}}} & \\frac{e^{x_{12}}}{\\sum_{j}e^{x_{1j}}} & \\frac{e^{x_{13}}}{\\sum_{j}e^{x_{1j}}} & \\dots  & \\frac{e^{x_{1n}}}{\\sum_{j}e^{x_{1j}}} \\\\\n",
        "    \\frac{e^{x_{21}}}{\\sum_{j}e^{x_{2j}}} & \\frac{e^{x_{22}}}{\\sum_{j}e^{x_{2j}}} & \\frac{e^{x_{23}}}{\\sum_{j}e^{x_{2j}}} & \\dots  & \\frac{e^{x_{2n}}}{\\sum_{j}e^{x_{2j}}} \\\\\n",
        "    \\vdots & \\vdots & \\vdots & \\ddots & \\vdots \\\\\n",
        "    \\frac{e^{x_{m1}}}{\\sum_{j}e^{x_{mj}}} & \\frac{e^{x_{m2}}}{\\sum_{j}e^{x_{mj}}} & \\frac{e^{x_{m3}}}{\\sum_{j}e^{x_{mj}}} & \\dots  & \\frac{e^{x_{mn}}}{\\sum_{j}e^{x_{mj}}}\n",
        "\\end{bmatrix} = \\begin{pmatrix}\n",
        "    softmax\\text{(first row of x)}  \\\\\n",
        "    softmax\\text{(second row of x)} \\\\\n",
        "    ...  \\\\\n",
        "    softmax\\text{(last row of x)} \\\\\n",
        "\\end{pmatrix} $$"
      ]
    },
    {
      "cell_type": "code",
      "execution_count": 14,
      "metadata": {
        "id": "jQhqnNBuy3us"
      },
      "outputs": [],
      "source": [
        "# GRADED FUNCTION: softmax\n",
        "\n",
        "def softmax_numpy(x):\n",
        "    \"\"\"Calculates the softmax for each row of the input x.\n",
        "\n",
        "    Your code should work for a row vector and also for matrices of shape (n, m).\n",
        "\n",
        "    Argument:\n",
        "    x -- A numpy matrix of shape (n,m)\n",
        "\n",
        "    Returns:\n",
        "    s -- A numpy matrix equal to the softmax of x, of shape (n,m)\n",
        "    \"\"\"\n",
        "\n",
        "    ### START CODE HERE ###\n",
        "    # Apply exp() element-wise to x. Use np.exp(...).\n",
        "    x_exp = np.exp(x)\n",
        "\n",
        "    # Create a vector x_sum that sums each row of x_exp. Use np.sum(..., axis = 1, keepdims = True).\n",
        "    x_sum = np.sum(x_exp,axis=1,keepdims=True)\n",
        "\n",
        "\n",
        "    # Compute softmax(x) by dividing x_exp by x_sum. It should automatically use numpy broadcasting.\n",
        "    s = x_exp/x_sum\n",
        "\n",
        "    ### END CODE HERE ###\n",
        "\n",
        "    return s"
      ]
    },
    {
      "cell_type": "code",
      "execution_count": 15,
      "metadata": {
        "id": "hzX08_tZ5C_g"
      },
      "outputs": [
        {
          "name": "stdout",
          "output_type": "stream",
          "text": [
            "<class 'torch.Tensor'>\n",
            "tensor([[9.8090e-01, 8.9446e-04, 1.7966e-02, 1.2105e-04, 1.2105e-04],\n",
            "        [8.7868e-01, 1.1892e-01, 8.0125e-04, 8.0125e-04, 8.0125e-04]])\n"
          ]
        }
      ],
      "source": [
        "# import softmax function\n",
        "### START CODE HERE ###\n",
        "from torch.nn.functional import softmax\n",
        "\n",
        "x = np.array([\n",
        "    [9, 2, 5, 0, 0],\n",
        "    [7, 5, 0, 0 ,0]])\n",
        "# convert numpy array to torch tensor\n",
        "x = torch.tensor(x, dtype=torch.float32)\n",
        "print(type(x))\n",
        "# compute the softmax function\n",
        "s = softmax(input=x, dim=1)\n",
        "print(s)\n",
        "### END CODE HERE ###"
      ]
    },
    {
      "cell_type": "code",
      "execution_count": 16,
      "metadata": {
        "id": "PN2xigUny3us"
      },
      "outputs": [
        {
          "name": "stdout",
          "output_type": "stream",
          "text": [
            "softmax(x) = [[9.80897665e-01 8.94462891e-04 1.79657674e-02 1.21052389e-04\n",
            "  1.21052389e-04]\n",
            " [8.78679856e-01 1.18916387e-01 8.01252314e-04 8.01252314e-04\n",
            "  8.01252314e-04]]\n"
          ]
        }
      ],
      "source": [
        "x = np.array([\n",
        "    [9, 2, 5, 0, 0],\n",
        "    [7, 5, 0, 0 ,0]])\n",
        "print(\"softmax(x) = \" + str(softmax_numpy(x)))"
      ]
    },
    {
      "cell_type": "markdown",
      "metadata": {
        "id": "IBnhCymEy3ut"
      },
      "source": [
        "### 2.1 Implement the L1 and L2 loss functions\n",
        "\n",
        "**Exercise**: Implement the numpy vectorized version of the L1 loss. You may find the function abs(x) (absolute value of x) useful.\n",
        "\n",
        "**Reminder**:\n",
        "- The loss is used to evaluate the performance of your model. The bigger your loss is, the more different your predictions ($ \\hat{y} $) are from the true values ($y$). In deep learning, you use optimization algorithms like Gradient Descent to train your model and to minimize the cost.\n",
        "- L1 loss is defined as:\n",
        "$$\\begin{align*} & L_1(\\hat{y}, y) = \\frac{1}{m}\\sum_{i=0}^m|y^{(i)} - \\hat{y}^{(i)}| \\end{align*}\\tag{6}$$"
      ]
    },
    {
      "cell_type": "code",
      "execution_count": 17,
      "metadata": {
        "id": "_AC_T9C2y3ut"
      },
      "outputs": [],
      "source": [
        "# GRADED FUNCTION: L1\n",
        "\n",
        "def L1_numpy(yhat, y):\n",
        "    \"\"\"\n",
        "    Arguments:\n",
        "    yhat -- vector of size m (predicted labels)\n",
        "    y -- vector of size m (true labels)\n",
        "\n",
        "    Returns:\n",
        "    loss -- the value of the L1 loss function defined above\n",
        "    \"\"\"\n",
        "\n",
        "    ### START CODE HERE ### (≈ 1 line of code)\n",
        "    m=y.shape[0]\n",
        "    loss = 1/m*(np.sum(np.abs(y-yhat)))\n",
        "    ### END CODE HERE ###\n",
        "\n",
        "    return loss"
      ]
    },
    {
      "cell_type": "markdown",
      "metadata": {
        "id": "485wUEFd5tDx"
      },
      "source": [
        "**Import l1_loss from torch.nn.functional to compute l1-loss in torch**"
      ]
    },
    {
      "cell_type": "code",
      "execution_count": 18,
      "metadata": {
        "id": "hQ9Teeiqy3ut"
      },
      "outputs": [],
      "source": [
        "### START CODE HERE ###\n",
        "from torch.nn.functional import l1_loss\n",
        "### END CODE HERE ###\n",
        "def L1_pytorch(yhat, y):\n",
        "    \"\"\"\n",
        "    Arguments:\n",
        "    yhat -- vector of size m (predicted labels)\n",
        "    y -- vector of size m (true labels)\n",
        "\n",
        "    Returns:\n",
        "    loss -- the value of the L1 loss function defined above\n",
        "    \"\"\"\n",
        "\n",
        "    ### START CODE HERE ###\n",
        "    # conver y and yhat to torch.tensor\n",
        "    y = torch.tensor(y, dtype=torch.float32)\n",
        "    yhat = torch.tensor(yhat, dtype=torch.float32)\n",
        "    loss = l1_loss(yhat, y)\n",
        "    ### END CODE HERE ###\n",
        "\n",
        "    return loss"
      ]
    },
    {
      "cell_type": "code",
      "execution_count": 19,
      "metadata": {
        "id": "6VsOTlz1y3ut"
      },
      "outputs": [
        {
          "name": "stdout",
          "output_type": "stream",
          "text": [
            "L1 = 0.22000000000000003\n",
            "L1 = tensor(0.2200)\n"
          ]
        }
      ],
      "source": [
        "yhat = np.array([.9, 0.2, 0.1, .4, .9])\n",
        "y = np.array([1, 0, 0, 1, 1])\n",
        "print(\"L1 = \" + str(L1_numpy(yhat,y)))\n",
        "print(\"L1 = \" + str(L1_pytorch(yhat,y)))"
      ]
    },
    {
      "cell_type": "markdown",
      "metadata": {
        "id": "9en2E_qo6PoY"
      },
      "source": [
        "**Exercise**: Implement the numpy vectorized version of the L2 loss. There are several way of implementing the L2 loss but you may find the function np.dot() useful. As a reminder, if $x = [x_1, x_2, ..., x_n]$, then `np.dot(x,x)` = $\\sum_{j=0}^n x_j^{2}$.\n",
        "\n",
        "- L2 loss is defined as $$\\begin{align*} & L_2(\\hat{y},y) = \\frac{1}{m}\\sum_{i=0}^m(y^{(i)} - \\hat{y}^{(i)})^2 \\end{align*}\\tag{7}$$"
      ]
    },
    {
      "cell_type": "code",
      "execution_count": 20,
      "metadata": {
        "id": "Q56NP-LBy3uu"
      },
      "outputs": [],
      "source": [
        "# GRADED FUNCTION: L2\n",
        "\n",
        "def L2_numpy(yhat, y):\n",
        "    \"\"\"\n",
        "    Arguments:\n",
        "    yhat -- vector of size m (predicted labels)\n",
        "    y -- vector of size m (true labels)\n",
        "\n",
        "    Returns:\n",
        "    loss -- the value of the L2 loss function defined above\n",
        "    \"\"\"\n",
        "\n",
        "    ### START CODE HERE ### (≈ 1 line of code)\n",
        "    m = y.shape[0]\n",
        "    loss = 1/m * np.sum(np.square(y-yhat))\n",
        "    ### END CODE HERE ###\n",
        "\n",
        "    return loss"
      ]
    },
    {
      "cell_type": "markdown",
      "metadata": {
        "id": "90_s8k0n6fJT"
      },
      "source": [
        "**Import mse_loss from torch.nn.functional to compute loss in torch**"
      ]
    },
    {
      "cell_type": "code",
      "execution_count": 21,
      "metadata": {
        "id": "XNCT1iHDy3uu"
      },
      "outputs": [],
      "source": [
        "# GRADED FUNCTION: L2\n",
        "### START CODE HERE ###\n",
        "from torch.nn.functional import mse_loss\n",
        "### END CODE HERE ###\n",
        "def L2_pytorch(yhat, y):\n",
        "    \"\"\"\n",
        "    Arguments:\n",
        "    yhat -- vector of size m (predicted labels)\n",
        "    y -- vector of size m (true labels)\n",
        "\n",
        "    Returns:\n",
        "    loss -- the value of the L2 loss function defined above\n",
        "    \"\"\"\n",
        "\n",
        "    ### START CODE HERE ###\n",
        "    # conver y and yhat to torch.tensor\n",
        "    y = torch.tensor(y, dtype=torch.float32)\n",
        "    yhat = torch.tensor(yhat, dtype=torch.float32)\n",
        "    loss = mse_loss(yhat, y)\n",
        "    ### END CODE HERE ###\n",
        "\n",
        "    return loss"
      ]
    },
    {
      "cell_type": "code",
      "execution_count": 22,
      "metadata": {
        "id": "B1MhpYDly3uv"
      },
      "outputs": [
        {
          "name": "stdout",
          "output_type": "stream",
          "text": [
            "L2 = 0.08600000000000001\n",
            "L2 = tensor(0.0860)\n"
          ]
        }
      ],
      "source": [
        "yhat = np.array([.9, 0.2, 0.1, .4, .9])\n",
        "y = np.array([1, 0, 0, 1, 1])\n",
        "print(\"L2 = \" + str(L2_numpy(yhat,y)))\n",
        "print(\"L2 = \" + str(L2_pytorch(yhat,y)))"
      ]
    },
    {
      "cell_type": "markdown",
      "metadata": {
        "id": "sdFYlj998fXg"
      },
      "source": [
        "# Datasets in Torch"
      ]
    },
    {
      "cell_type": "markdown",
      "metadata": {
        "id": "_MPvcvH28UQK"
      },
      "source": [
        " We have datasets available in pytorch so that you can quickly start experimenting with them. Here we have simple datasets already provided in pytorch called MNIST and Fashion MNIST. We have load the MNIST dataset and plotted some data and class labels for you to observe"
      ]
    },
    {
      "cell_type": "code",
      "execution_count": 23,
      "metadata": {
        "id": "vExQU-QP8esd"
      },
      "outputs": [],
      "source": [
        "# import packages\n",
        "import torch\n",
        "from torch.utils.data import Dataset # to create dataset object\n",
        "from torchvision import datasets # to load predefined dataset in torch\n",
        "from torchvision.transforms import ToTensor # convert PIL image to tensors\n",
        "import matplotlib.pyplot as plt # plot images"
      ]
    },
    {
      "cell_type": "markdown",
      "metadata": {
        "id": "0KR2VPeM81sM"
      },
      "source": [
        "**Create training and testing data**"
      ]
    },
    {
      "cell_type": "code",
      "execution_count": 24,
      "metadata": {
        "id": "htRg_tAb8ysm"
      },
      "outputs": [],
      "source": [
        "training_set1 = datasets.MNIST(\n",
        "    root=\"data\",\n",
        "    train=True,\n",
        "    download=True,\n",
        "    transform=ToTensor()\n",
        ")\n",
        "\n",
        "training_set2 = datasets.FashionMNIST(\n",
        "    root=\"data\",\n",
        "    train=True,\n",
        "    download=True,\n",
        "    transform=ToTensor()\n",
        ")"
      ]
    },
    {
      "cell_type": "markdown",
      "metadata": {
        "id": "2S9Wo7Rs9MLf"
      },
      "source": [
        "**Visualize Data**"
      ]
    },
    {
      "cell_type": "code",
      "execution_count": 25,
      "metadata": {
        "id": "JnJbodHw9IDd"
      },
      "outputs": [
        {
          "data": {
            "image/png": "[encoded data removed]",
            "text/plain": [
              "<Figure size 800x800 with 9 Axes>"
            ]
          },
          "metadata": {},
          "output_type": "display_data"
        }
      ],
      "source": [
        "figure = plt.figure(figsize=(8, 8))\n",
        "cols, rows = 3, 3\n",
        "for i in range(1, cols * rows + 1):\n",
        "    sample_idx = torch.randint(len(training_set1), size=(1,)).item()\n",
        "    img, label = training_set1[sample_idx]\n",
        "    figure.add_subplot(rows, cols, i)\n",
        "    plt.title(label)\n",
        "    plt.axis(\"off\")\n",
        "    plt.imshow(img.squeeze(), cmap=\"gray\")\n",
        "plt.show()"
      ]
    },
    {
      "cell_type": "markdown",
      "metadata": {
        "id": "x6Q1cfe_AqMX"
      },
      "source": [
        "**Quiz Task 1: Similar to the above plot, please plot the the images in the training_set2 so that you can observe the images in the FashionMNIST dataset**"
      ]
    },
    {
      "cell_type": "code",
      "execution_count": 26,
      "metadata": {
        "id": "HmgEcc7VBGi2"
      },
      "outputs": [
        {
          "data": {
            "image/png": "[encoded data removed]",
            "text/plain": [
              "<Figure size 800x800 with 9 Axes>"
            ]
          },
          "metadata": {},
          "output_type": "display_data"
        }
      ],
      "source": [
        "### Start Code here\n",
        "\n",
        "figure = plt.figure(figsize=(8, 8))\n",
        "cols, rows = 3, 3\n",
        "for i in range(1, cols * rows + 1):\n",
        "    sample_idx = torch.randint(len(training_set2), size=(1,)).item()\n",
        "    img, label = training_set2[sample_idx]\n",
        "    figure.add_subplot(rows, cols, i)\n",
        "    plt.title(label)\n",
        "    plt.axis(\"off\")\n",
        "    plt.imshow(img.squeeze(), cmap=\"gray\")\n",
        "plt.show()\n",
        "\n",
        "### End code here\n"
      ]
    },
    {
      "cell_type": "markdown",
      "metadata": {
        "id": "4JwYpeflCJ80"
      },
      "source": [
        "**Quiz Task 2: In this lab you have learnt to convert an array of any shape like (H,W,C) into a vector of shape (H\\*W\\*C,1). Please take any single image from the MNIST dataset (Training_set1), print its shape and comment on it and then convert the same image into a vector form in the cells given below:**"
      ]
    },
    {
      "cell_type": "code",
      "execution_count": 27,
      "metadata": {
        "id": "ephEl8s3DSSY"
      },
      "outputs": [
        {
          "name": "stdout",
          "output_type": "stream",
          "text": [
            "torch.Size([1, 28, 28])\n"
          ]
        }
      ],
      "source": [
        "### Take an image from the training_set2\n",
        "### Start Code here\n",
        "image,label = training_set2[1]\n",
        "\n",
        "### End code here\n",
        "\n",
        "\n",
        "\n",
        "### Print shape of the image\n",
        "\n",
        "### Start Code here\n",
        "print(image.shape)\n",
        "\n",
        "##1 - Instead of H,W,3, these images have 1, H, W - or C, H, W. They are black and white.\n",
        "\n",
        "##2 - 1.\n",
        "\n",
        "##3 - image.reshape(image.shape[0]*image.shape[1]*image.shape[2],1)\n",
        "\n",
        "### End code here\n"
      ]
    },
    {
      "cell_type": "markdown",
      "metadata": {
        "id": "vBmwYizoDeAn"
      },
      "source": [
        "###Please answer the following questions:\n",
        "\n",
        "###1) how is the shape of these images different than the normal images of shapes (H,W,3)?\n",
        "\n",
        "###2) How many channels would you say these images have?\n",
        "\n",
        "###3) How would you vectorize these images?"
      ]
    },
    {
      "cell_type": "code",
      "execution_count": null,
      "metadata": {},
      "outputs": [],
      "source": []
    },
    {
      "cell_type": "code",
      "execution_count": 28,
      "metadata": {
        "id": "yHN-c6YhDm_u"
      },
      "outputs": [
        {
          "name": "stdout",
          "output_type": "stream",
          "text": [
            "torch.Size([784, 1])\n"
          ]
        }
      ],
      "source": [
        "### Convert the image into a vector\n",
        "### Start code here\n",
        "vectorimage = image2vector_numpy(image)\n",
        "\n",
        "### End code here\n",
        "\n",
        "\n",
        "### Print the shape of the vector\n",
        "### Start Code here\n",
        "print(vectorimage.shape)\n",
        "\n",
        "\n",
        "\n",
        "\n",
        "### End code here\n",
        "\n",
        "\n"
      ]
    },
    {
      "cell_type": "markdown",
      "metadata": {
        "id": "HnXi6IR6E10m"
      },
      "source": [
        "### Now you have an image in a vectorized format. In this format we say that each element of this vector is a \"Feature\" of the original image. Since the shape of the original image is (28,28), then when we vectorize this image we will get a vector of size (28*28,1) or (784,1)\n",
        "\n",
        "### In Deep Learning when we intend to work on such a type of vector data we use a type of basic networks called linear neural networks.\n",
        "\n"
      ]
    },
    {
      "cell_type": "markdown",
      "metadata": {
        "id": "7cxtLYyqJWmJ"
      },
      "source": [
        "### Question: If we have linear neural network with only one layer with a single neuron in it and sigmoid as an activation function, then if we are using the MNIST dataset and vectorize its images, how many weight elements or parameters would the single unit contain?\n",
        "\n",
        "### Your Answer: "
      ]
    },
    {
      "cell_type": "code",
      "execution_count": 29,
      "metadata": {},
      "outputs": [],
      "source": [
        "## ANSWER BABY: parameters = elements+bias = width * height + bias = 28*28+1 = 785"
      ]
    },
    {
      "cell_type": "code",
      "execution_count": null,
      "metadata": {},
      "outputs": [],
      "source": [
        "### Question: If we have linear neural network with only one layer with a single neuron in it and sigmoid as an activation function, then if we are using the MNIST dataset and vectorize its images, how many weight elements or parameters would the single unit contain?\n",
        "\n",
        "### Your Answer: "
      ]
    }
  ],
  "metadata": {
    "colab": {
      "provenance": []
    },
    "kernelspec": {
      "display_name": "PyTorch",
      "language": "python",
      "name": "python3"
    },
    "language_info": {
      "codemirror_mode": {
        "name": "ipython",
        "version": 3
      },
      "file_extension": ".py",
      "mimetype": "text/x-python",
      "name": "python",
      "nbconvert_exporter": "python",
      "pygments_lexer": "ipython3",
      "version": "3.10.14"
    },
    "orig_nbformat": 4
  },
  "nbformat": 4,
  "nbformat_minor": 0
}
